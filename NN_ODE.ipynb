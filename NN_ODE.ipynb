{
 "cells": [
  {
   "cell_type": "code",
   "execution_count": null,
   "metadata": {
    "colab": {
     "base_uri": "https://localhost:8080/"
    },
    "id": "h6vffC5iL2AK",
    "outputId": "80553afc-d4c7-4f15-bff8-d30ad8da552b"
   },
   "outputs": [
    {
     "name": "stdout",
     "output_type": "stream",
     "text": [
      "2.5.0\n"
     ]
    }
   ],
   "source": [
    "import tensorflow as tf\n",
    "print(tf.__version__)\n"
   ]
  },
  {
   "cell_type": "code",
   "execution_count": null,
   "metadata": {
    "id": "yCjBmLesNgE9"
   },
   "outputs": [],
   "source": [
    "import numpy as np\n",
    "import matplotlib.pyplot as plt"
   ]
  },
  {
   "cell_type": "markdown",
   "metadata": {
    "id": "kfZH96L_UXBn"
   },
   "source": [
    "<H1> First order differential equasion </H1>\n"
   ]
  },
  {
   "cell_type": "markdown",
   "metadata": {
    "id": "mMfqaPjpVNfL"
   },
   "source": [
    "$$\n",
    "y'(x) = f(x, y(x))\n",
    "$$"
   ]
  },
  {
   "cell_type": "markdown",
   "metadata": {
    "id": "W6HGNKRUVeWr"
   },
   "source": [
    "Let's solve following equasion:"
   ]
  },
  {
   "cell_type": "markdown",
   "metadata": {
    "id": "vxElOl0OVgrE"
   },
   "source": [
    "$$\n",
    "y'=12x^2-4x-1\n",
    "$$\n",
    "$$\n",
    "y(0) = 1\n",
    "$$"
   ]
  },
  {
   "cell_type": "markdown",
   "metadata": {
    "id": "OJe2t398X76_"
   },
   "source": [
    "The analitical solution to this is:\n"
   ]
  },
  {
   "cell_type": "markdown",
   "metadata": {
    "id": "YnnxYCdAXleV"
   },
   "source": [
    "$$\n",
    "y = 4x^3 - 2 x^2 - x + 1\n",
    "$$"
   ]
  },
  {
   "cell_type": "markdown",
   "metadata": {
    "id": "sJiksPKbYYMk"
   },
   "source": [
    "Neural network needs some layers and neurons.\n",
    "\n",
    "We will use 2 hidden layers and 32 neurons in each layer."
   ]
  },
  {
   "cell_type": "code",
   "execution_count": null,
   "metadata": {
    "id": "slLKGvb6NFW3"
   },
   "outputs": [],
   "source": [
    "f0 = 1\n",
    "inf_s = np.sqrt(np.finfo(np.float32).eps)\n",
    "learning_rate = 0.001\n",
    "training_steps = 1000\n",
    "batch_size = 100\n",
    "display_step = 50\n",
    "# Network Parameters\n",
    "n_input = 1     # input layer number of neurons\n",
    "n_hidden_1 = 32 # 1st layer number of neurons\n",
    "n_hidden_2 = 32 # 2nd layer number of neurons\n",
    "n_output = 1    # output layer number of neurons\n",
    "weights = {\n",
    "'h1': tf.Variable(tf.random.normal([n_input, n_hidden_1])),\n",
    "'h2': tf.Variable(tf.random.normal([n_hidden_1, n_hidden_2])),\n",
    "'out': tf.Variable(tf.random.normal([n_hidden_2, n_output]))\n",
    "}\n",
    "biases = {\n",
    "'b1': tf.Variable(tf.random.normal([n_hidden_1])),\n",
    "'b2': tf.Variable(tf.random.normal([n_hidden_2])),\n",
    "'out': tf.Variable(tf.random.normal([n_output]))\n",
    "}\n",
    "# Stochastic gradient descent optimizer.\n",
    "optimizer = tf.optimizers.SGD(learning_rate)"
   ]
  },
  {
   "cell_type": "markdown",
   "metadata": {
    "id": "o4XfiGwXN0mc"
   },
   "source": [
    "To compute function y using neural network we will use:\n",
    "$$\n",
    "y(x) = x_0 + xNN(x)\n",
    "$$"
   ]
  },
  {
   "cell_type": "code",
   "execution_count": null,
   "metadata": {
    "id": "2bC1faASNjhQ"
   },
   "outputs": [],
   "source": [
    "# Create model\n",
    "def multilayer_perceptron(x):\n",
    "  x = np.array([[[x]]],  dtype='float32')\n",
    "  layer_1 = tf.add(tf.matmul(x, weights['h1']), biases['b1'])\n",
    "  layer_1 = tf.nn.sigmoid(layer_1)\n",
    "  layer_2 = tf.add(tf.matmul(layer_1, weights['h2']), biases['b2'])\n",
    "  layer_2 = tf.nn.sigmoid(layer_2)\n",
    "  output = tf.matmul(layer_2, weights['out']) + biases['out']\n",
    "  return output\n",
    "# Universal Approximator\n",
    "def g(x):\n",
    "  return x * multilayer_perceptron(x) + f0\n",
    "# Given ODE\n",
    "def f(x):\n",
    "  return 12*x**2 - 4*x - 1\n",
    "# Custom loss function to approximate the derivatives\n",
    "def custom_loss():\n",
    "  summation = []\n",
    "  for x in np.linspace(-1,1,batch_size):\n",
    "    dNN = (g(x+inf_s)-g(x))/inf_s\n",
    "    summation.append((dNN - f(x))**2)\n",
    "  return tf.sqrt(tf.reduce_mean(tf.abs(summation)))"
   ]
  },
  {
   "cell_type": "markdown",
   "metadata": {
    "id": "Ame5hJrbiusy"
   },
   "source": [
    "$$\\frac{dg(x)}{x} = \\frac{g(x+n)-g(x)}{n},$$\n",
    "$$lim_{n\\to0}$$"
   ]
  },
  {
   "cell_type": "code",
   "execution_count": null,
   "metadata": {
    "colab": {
     "base_uri": "https://localhost:8080/"
    },
    "id": "FHD-ekiPNswZ",
    "outputId": "f8b0d61c-0402-4632-ca75-a429d2182308"
   },
   "outputs": [
    {
     "name": "stdout",
     "output_type": "stream",
     "text": [
      "loss after 1 steps: 4.811338 \n",
      "loss after 50 steps: 3.394367 \n",
      "loss after 100 steps: 2.887211 \n",
      "loss after 150 steps: 2.438566 \n",
      "loss after 200 steps: 2.068438 \n",
      "loss after 250 steps: 1.741415 \n",
      "loss after 300 steps: 1.447946 \n",
      "loss after 350 steps: 1.189064 \n",
      "loss after 400 steps: 0.966678 \n",
      "loss after 450 steps: 0.784323 \n",
      "loss after 500 steps: 0.640788 \n",
      "loss after 550 steps: 0.532233 \n",
      "loss after 600 steps: 0.448486 \n",
      "loss after 650 steps: 0.382113 \n",
      "loss after 700 steps: 0.328381 \n",
      "loss after 750 steps: 0.284864 \n",
      "loss after 800 steps: 0.250407 \n",
      "loss after 850 steps: 0.223902 \n",
      "loss after 900 steps: 0.203100 \n",
      "loss after 950 steps: 0.186906 \n",
      "loss after 1000 steps: 0.174105 \n"
     ]
    }
   ],
   "source": [
    "def train_step():\n",
    "  with tf.GradientTape() as tape:\n",
    "    loss = custom_loss()\n",
    "  trainable_variables=list(weights.values())+list(biases.values())\n",
    "  gradients = tape.gradient(loss, trainable_variables)\n",
    "  optimizer.apply_gradients(zip(gradients, trainable_variables))\n",
    "# Training the Model:\n",
    "for i in range(1, training_steps+1):\n",
    "  train_step()\n",
    "  if i == 1 or i % display_step == 0:\n",
    "    print(\"loss after\", i, \"steps: %f \" % (custom_loss()))"
   ]
  },
  {
   "cell_type": "code",
   "execution_count": null,
   "metadata": {
    "colab": {
     "base_uri": "https://localhost:8080/",
     "height": 265
    },
    "id": "HyBHBPajN5q0",
    "outputId": "445a0876-a2ae-48c6-c9ca-73932cd8dc9e"
   },
   "outputs": [
    {
     "data": {
      "image/png": "[encoded data removed]",
      "text/plain": [
       "<Figure size 432x288 with 1 Axes>"
      ]
     },
     "metadata": {
      "needs_background": "light",
      "tags": []
     },
     "output_type": "display_data"
    }
   ],
   "source": [
    "# True Solution (found analitically)\n",
    "def true_solution(x):\n",
    "  return 4*x**3 - 2*x**2 - x + 1\n",
    "X = np.linspace(-1, 1, batch_size)\n",
    "result = []\n",
    "for i in X:\n",
    "  result.append(g(i).numpy()[0][0][0])\n",
    "S = true_solution(X)\n",
    "plt.plot(X, result, label=\"network solution\")\n",
    "plt.plot(X, S, label=\"exact solution\")\n",
    "plt.legend()\n",
    "plt.show()"
   ]
  },
  {
   "cell_type": "markdown",
   "metadata": {
    "id": "gdCYGcm7PY25"
   },
   "source": [
    "<H1> Second order differential equasion </H1>\n"
   ]
  },
  {
   "cell_type": "markdown",
   "metadata": {
    "id": "UTk4K3MURLY0"
   },
   "source": [
    "$$\n",
    "\\Psi''(x) = f(x, \\Psi(x), \\Psi'(x))\n",
    "$$"
   ]
  },
  {
   "cell_type": "markdown",
   "metadata": {
    "id": "gDxjLHOQOp9b"
   },
   "source": [
    "Let's solve following equasion:"
   ]
  },
  {
   "cell_type": "markdown",
   "metadata": {
    "id": "P-yEVYdWYADC"
   },
   "source": [
    "$$\n",
    "\\frac{ \\delta^{2}y }{ \\delta x^{2}}+2\n",
    "{\\frac{\\delta y}{\\delta x} }+{ 3y } = x\n",
    "$$\n",
    "$$\n",
    "y(0) = 2 = A\n",
    "$$\n",
    "$$\n",
    "y'(0) = 3 = B\n",
    "$$"
   ]
  },
  {
   "cell_type": "markdown",
   "metadata": {
    "id": "ZGa4apqsOyXM"
   },
   "source": [
    "The anlitical solution to this is:\n"
   ]
  },
  {
   "cell_type": "markdown",
   "metadata": {
    "id": "SZ0u35m4O2o9"
   },
   "source": [
    "$$\n",
    "y(x) = \\frac{1}{9}e^{-x}(e^x(3x+2) + 22\\sqrt{2}\\sin{(\\sqrt{2}x)} + 20\\cos{(\\sqrt{2}x)})\n",
    "$$"
   ]
  },
  {
   "cell_type": "code",
   "execution_count": null,
   "metadata": {
    "id": "Bvq5VN5_mUlf"
   },
   "outputs": [],
   "source": [
    "learning_rate = 0.001\n",
    "training_steps = 200\n",
    "batch_size = 100\n",
    "display_step = training_steps/20\n",
    "eps = inf_s"
   ]
  },
  {
   "cell_type": "code",
   "execution_count": null,
   "metadata": {
    "id": "emxeoYbGTqD5"
   },
   "outputs": [],
   "source": [
    "A = 2\n",
    "B = 3"
   ]
  },
  {
   "cell_type": "markdown",
   "metadata": {
    "id": "yw_glcMkQlo8"
   },
   "source": [
    "Network was modified. Now has 3 hidden layers and 256 neurons in each layer."
   ]
  },
  {
   "cell_type": "code",
   "execution_count": null,
   "metadata": {
    "id": "w3MQ-j2GmrVQ"
   },
   "outputs": [],
   "source": [
    "n_input = 1     # input layer number of neurons\n",
    "n_hidden_1 = 256 # 1st layer number of neurons\n",
    "n_hidden_2 = 256 # 2nd layer number of neurons\n",
    "n_hidden_3 = 256 # 3rd layer number of neurons\n",
    "n_output = 1    # output layer number of neurons\n",
    "weights_2 = {\n",
    "'h1': tf.Variable(tf.random.normal([n_input, n_hidden_1])),\n",
    "'h2': tf.Variable(tf.random.normal([n_hidden_1, n_hidden_2])),\n",
    "'h3': tf.Variable(tf.random.normal([n_hidden_2, n_hidden_3])),\n",
    "'out': tf.Variable(tf.random.normal([n_hidden_3, n_output]))\n",
    "}\n",
    "biases_2 = {\n",
    "'b1': tf.Variable(tf.random.normal([n_hidden_1])),\n",
    "'b2': tf.Variable(tf.random.normal([n_hidden_2])),\n",
    "'b3': tf.Variable(tf.random.normal([n_hidden_3])),\n",
    "'out': tf.Variable(tf.random.normal([n_output]))\n",
    "}"
   ]
  },
  {
   "cell_type": "code",
   "execution_count": null,
   "metadata": {
    "id": "6cU9klrSmrYQ"
   },
   "outputs": [],
   "source": [
    "# Create model\n",
    "def multilayer_perceptron_2(x):\n",
    "  X = np.array([[[x]]],  dtype='float32')\n",
    "  layer_1 = tf.add(tf.matmul(X, weights_2['h1']), biases_2['b1'])\n",
    "  layer_1 = tf.nn.sigmoid(layer_1)\n",
    "  layer_2 = tf.add(tf.matmul(layer_1, weights_2['h2']), biases_2['b2'])\n",
    "  layer_2 = tf.nn.sigmoid(layer_2)\n",
    "  layer_3 = tf.add(tf.matmul(layer_2, weights_2['h3']), biases_2['b3'])\n",
    "  layer_3 = tf.nn.sigmoid(layer_3)\n",
    "  output = tf.matmul(layer_3, weights_2['out']) + biases_2['out']\n",
    "  return output"
   ]
  },
  {
   "cell_type": "markdown",
   "metadata": {
    "id": "BHnWQ-ukQymx"
   },
   "source": [
    "Our function y(x) has a solution given by this formula:\n",
    "$$\n",
    "y(x) = A + Bx + x^2NN(x)\n",
    "$$"
   ]
  },
  {
   "cell_type": "code",
   "execution_count": null,
   "metadata": {
    "id": "Z0E1z-KSV_g0"
   },
   "outputs": [],
   "source": [
    "def neural_y(x):\n",
    "  return A + B*x + x**2*multilayer_perceptron_2(x)"
   ]
  },
  {
   "cell_type": "markdown",
   "metadata": {
    "id": "cABZV3__RnSB"
   },
   "source": [
    "Cost function to be minimized is:\n",
    "$$\n",
    "Cost = \\sum_{i}{(\\Psi''(x_i) - f(x_i, \\Psi(x_i), \\Psi'(x_i)))^2}\n",
    "$$\n",
    "In our equation it comes to:\n",
    "$$\n",
    "Cost = \\sum_{i}{(y''(x_i) + 2y'(x_i) + 3y(x_i) - x_i)^2}\n",
    "$$"
   ]
  },
  {
   "cell_type": "code",
   "execution_count": null,
   "metadata": {
    "id": "mBDlZ28YRa_b"
   },
   "outputs": [],
   "source": [
    "def second_order_loss():\n",
    "  summation = []\n",
    "  for x in np.linspace(-1,1,batch_size):\n",
    "    y = neural_y(x)\n",
    "    dy = (neural_y(x+eps) - neural_y(x))/eps\n",
    "    ddy = (neural_y(x+eps) - 2*neural_y(x) + neural_y(x-eps))/(eps**2)\n",
    "    value = (ddy+2*dy+3*y-x)**2\n",
    "    summation.append((ddy+2*dy+3*y-x)**2)\n",
    "  return tf.sqrt(tf.reduce_mean(tf.abs(summation)))"
   ]
  },
  {
   "cell_type": "code",
   "execution_count": null,
   "metadata": {
    "id": "VRl8iqg2mDpN"
   },
   "outputs": [],
   "source": [
    "def train_step_second_order():\n",
    "  with tf.GradientTape() as tape:\n",
    "    loss = second_order_loss()\n",
    "  trainable_variables_2 = list(weights_2.values())+list(biases_2.values())\n",
    "  gradients = tape.gradient(loss, trainable_variables_2)\n",
    "  optimizer.apply_gradients(zip(gradients, trainable_variables_2))"
   ]
  },
  {
   "cell_type": "code",
   "execution_count": null,
   "metadata": {
    "colab": {
     "base_uri": "https://localhost:8080/"
    },
    "id": "ggT36PpAmIRi",
    "outputId": "718e34dd-f108-4962-d7ed-bb88f3e07b20"
   },
   "outputs": [
    {
     "name": "stdout",
     "output_type": "stream",
     "text": [
      "loss after 1 steps: 48.478119 \n",
      "loss after 10 steps: 25.948601 \n",
      "loss after 20 steps: 20.758736 \n",
      "loss after 30 steps: 20.387131 \n",
      "loss after 40 steps: 20.238953 \n",
      "loss after 50 steps: 14.576778 \n",
      "loss after 60 steps: 15.093274 \n",
      "loss after 70 steps: 17.512863 \n",
      "loss after 80 steps: 15.178745 \n",
      "loss after 90 steps: 15.881549 \n",
      "loss after 100 steps: 14.539656 \n",
      "loss after 110 steps: 16.634329 \n",
      "loss after 120 steps: 18.904982 \n",
      "loss after 130 steps: 15.479137 \n",
      "loss after 140 steps: 14.244158 \n",
      "loss after 150 steps: 13.061653 \n",
      "loss after 160 steps: 18.129345 \n",
      "loss after 170 steps: 13.583634 \n",
      "loss after 180 steps: 13.593352 \n",
      "loss after 190 steps: 15.731951 \n",
      "loss after 200 steps: 13.990321 \n"
     ]
    }
   ],
   "source": [
    "for i in range(1, training_steps+1):\n",
    "  train_step_second_order()\n",
    "  if i == 1 or i % display_step == 0:\n",
    "    print(\"loss after\", i, \"steps: %f \" % (second_order_loss()))"
   ]
  },
  {
   "cell_type": "code",
   "execution_count": null,
   "metadata": {
    "colab": {
     "base_uri": "https://localhost:8080/",
     "height": 265
    },
    "id": "i92-qrbvnP8C",
    "outputId": "aef9e23d-a52c-419e-9915-50f48861969f"
   },
   "outputs": [
    {
     "data": {
      "image/png": "[encoded data removed]",
      "text/plain": [
       "<Figure size 432x288 with 1 Axes>"
      ]
     },
     "metadata": {
      "needs_background": "light",
      "tags": []
     },
     "output_type": "display_data"
    }
   ],
   "source": [
    "# True Solution (found analitically)\n",
    "def true_solution(x):\n",
    "  return (np.exp(-1*x)*(np.exp(x)*(3*x-2) + 22*np.sqrt(2)*np.sin(np.sqrt(2)*x) + 20*np.cos(np.sqrt(2)*x)))/9\n",
    "X = np.linspace(-1, 1, batch_size)\n",
    "result = []\n",
    "for i in X:\n",
    "  result.append(neural_y(i).numpy()[0][0][0])\n",
    "S = true_solution(X)\n",
    "plt.plot(X, result, label=\"network solution\")\n",
    "plt.plot(X, S, label=\"exact solution\")\n",
    "plt.legend()\n",
    "plt.show()"
   ]
  },
  {
   "cell_type": "markdown",
   "metadata": {
    "id": "CCjkZlqqQC55"
   },
   "source": [
    "Sources: <br>\n",
    "- https://stats.stackexchange.com/questions/493558/on-solving-ode-pde-with-neural-networks <br>\n",
    "- https://arxiv.org/abs/physics/9705023 <br>\n",
    "- https://towardsdatascience.com/using-neural-networks-to-solve-ordinary-differential-equations-a7806de99cdd <br>\n",
    "- https://becominghuman.ai/neural-networks-for-solving-differential-equations-fa230ac5e04c?fbclid=IwAR0IW0-qng2mQm1Du7Ex0CcSL6zvRoSn86LS0FQLeoVuULWsXD5_S_WkVMU#:~:text=%20Neural%20networks%20for%20solving%20differential%20equations%20,instability%20of%20calculations...%204%20Conclusions.%20%20More%20\n",
    "- https://bulldogjob.pl/articles/1136-czym-jest-deep-learning-i-sieci-neuronowe"
   ]
  }
 ],
 "metadata": {
  "colab": {
   "collapsed_sections": [],
   "name": "MOWNIT-miniprojekt.ipynb",
   "provenance": [],
   "toc_visible": true
  },
  "kernelspec": {
   "display_name": "Python 3 (ipykernel)",
   "language": "python",
   "name": "python3"
  },
  "language_info": {
   "codemirror_mode": {
    "name": "ipython",
    "version": 3
   },
   "file_extension": ".py",
   "mimetype": "text/x-python",
   "name": "python",
   "nbconvert_exporter": "python",
   "pygments_lexer": "ipython3",
   "version": "3.9.7"
  }
 },
 "nbformat": 4,
 "nbformat_minor": 1
}
